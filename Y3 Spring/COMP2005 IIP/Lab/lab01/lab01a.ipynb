{
 "cells": [
  {
   "cell_type": "markdown",
   "source": [
    "# lab01a: Image Processing in Python"
   ],
   "metadata": {
    "collapsed": false
   },
   "id": "8b62029127478d77"
  },
  {
   "cell_type": "markdown",
   "source": [
    "## 1. Using Libraries"
   ],
   "metadata": {
    "collapsed": false
   },
   "id": "78d7a047ec18971e"
  },
  {
   "cell_type": "code",
   "outputs": [],
   "source": [
    "import cv2\n",
    "from matplotlib import pyplot as plt"
   ],
   "metadata": {
    "collapsed": false,
    "ExecuteTime": {
     "end_time": "2024-03-03T00:31:42.432650Z",
     "start_time": "2024-03-03T00:31:41.847531Z"
    }
   },
   "id": "5d6b64f8b8fdf1c8",
   "execution_count": 1
  },
  {
   "cell_type": "markdown",
   "source": [
    "## 2. Whole Image Operations"
   ],
   "metadata": {
    "collapsed": false
   },
   "id": "55fa95978bab30cb"
  },
  {
   "cell_type": "markdown",
   "source": [
    "### Read and Write"
   ],
   "metadata": {
    "collapsed": false
   },
   "id": "2ff5e4763dc608be"
  },
  {
   "cell_type": "code",
   "execution_count": 2,
   "id": "initial_id",
   "metadata": {
    "collapsed": true,
    "ExecuteTime": {
     "end_time": "2024-03-03T00:33:40.938162Z",
     "start_time": "2024-03-03T00:33:39.545561Z"
    }
   },
   "outputs": [
    {
     "name": "stdout",
     "output_type": "stream",
     "text": [
      "(256, 256)\n"
     ]
    }
   ],
   "source": [
    "# Read the image\n",
    "img = cv2.imread(\"./Images/cameraman.tif\", cv2.IMREAD_UNCHANGED)\n",
    "\n",
    "# Display the image\n",
    "cv2.imshow(\"Image\", img)\n",
    "cv2.waitKey(0)      # wait until user presses any key\n",
    "cv2.destroyAllWindows()\n",
    "\n",
    "# Write the image to the computer\n",
    "cv2.imwrite(\"./Images/cameraman_copy.tif\", img)\n",
    "\n",
    "# Display the results of shape\n",
    "# The tuple is (height, width)\n",
    "# If an RGB image is read, the tuple will be (height, width, channels) where channels is the number of colour channels\n",
    "print(img.shape)"
   ]
  },
  {
   "cell_type": "markdown",
   "source": [
    "### Rotate"
   ],
   "metadata": {
    "collapsed": false
   },
   "id": "ac2c820d2472158f"
  },
  {
   "cell_type": "code",
   "outputs": [],
   "source": [
    "# Rotate the image by 90 degrees. The function rotate only works in multiples of 90\n",
    "degree90 = cv2.rotate(img, cv2.ROTATE_90_CLOCKWISE)\n",
    "cv2.imshow(\"ImgRotate90\", degree90)\n",
    "cv2.waitKey(0)\n",
    "cv2.destroyAllWindows()\n",
    "\n",
    "# Get the height and width of the image to get the centre point\n",
    "height, width = img.shape\n",
    "centre = (width / 2, height / 2)\n",
    "\n",
    "# Rotate the image by 30 degrees\n",
    "# Creates a matrix for 2D rotation around the centre point.\n",
    "matrix30 = cv2.getRotationMatrix2D(centre, 30, 1)\n",
    "# Applies the matrix transformation on the image\n",
    "degree30 = cv2.warpAffine(img, matrix30, (width, height))\n",
    "\n",
    "# The same is done to rotate the image by 60 degrees. This method can be used to rotate by any degree.\n",
    "matrix60 = cv2.getRotationMatrix2D(centre, 60, 1)\n",
    "# Display the images in a single window\n",
    "degree60 = cv2.warpAffine(img, matrix60, (width, height))\n",
    "\n",
    "# Create the layout of the image in this case: 1 row and 3 columns\n",
    "fig, (ax1, ax2, ax3) = plt.subplots(1, 3, figsize=(12, 6))\n",
    "ax1.imshow(degree30, cmap=\"gray\")\n",
    "ax1.set_title('30 degrees')\n",
    "ax2.imshow(degree60, cmap=\"gray\")\n",
    "ax2.set_title('60 degrees')\n",
    "ax3.imshow(degree90, cmap=\"gray\")\n",
    "ax3.set_title('90 degrees')\n",
    "# Show the figure with the subplots\n",
    "plt.show()"
   ],
   "metadata": {
    "collapsed": false
   },
   "id": "ff7cc6473ca59958"
  },
  {
   "cell_type": "markdown",
   "source": [
    "### Darker or Lighter"
   ],
   "metadata": {
    "collapsed": false
   },
   "id": "a3976658db5a70ed"
  },
  {
   "cell_type": "code",
   "outputs": [],
   "source": [
    "# Set a constant value for the lighter and darker image. The constant can be set to any number.\n",
    "constant = 20\n",
    "\n",
    "# img1 = img.copy()     # pass by value\n",
    "# imt2 = img            # pass by reference\n",
    "\n",
    "# Make a lighter image\n",
    "light_img = img.copy()              # Make a copy of the original image\n",
    "light_img = light_img.astype(int)   # Convert the image to type int\n",
    "light_img = light_img + constant    # Add the constant to each pixel value in the image\n",
    "light_img[light_img > 255] = 255    # If the pixel value is above 255, set it to 255 to prevent overflow\n",
    "light_img = light_img.astype(\"uint8\")   # Convert the image back to type uint8\n",
    "\n",
    "# Make a darker image\n",
    "dark_img = img.copy()\n",
    "dark_img = dark_img.astype(int)\n",
    "dark_img = dark_img - constant\n",
    "dark_img[dark_img < 0] = 0\n",
    "dark_img = dark_img.astype(\"uint8\")\n",
    "\n",
    "# Display the images in a single window\n",
    "fig, (ax1, ax2, ax3) = plt.subplots(1, 3, figsize=(12, 6))\n",
    "ax1.imshow(img, cmap=\"gray\")\n",
    "ax1.set_title('Original Image')\n",
    "ax2.imshow(light_img, cmap=\"gray\")\n",
    "ax2.set_title('Lighter Image')\n",
    "ax3.imshow(dark_img, cmap=\"gray\")\n",
    "ax3.set_title('Darker Image')\n",
    "plt.show()"
   ],
   "metadata": {
    "collapsed": false
   },
   "id": "e453c3820bfded1c"
  },
  {
   "cell_type": "markdown",
   "source": [
    "## 3. Arrays in Python"
   ],
   "metadata": {
    "collapsed": false
   },
   "id": "f66e573544738460"
  },
  {
   "cell_type": "code",
   "outputs": [],
   "source": [
    "# Set the threshold amount to 128\n",
    "threshold = 128\n",
    "\n",
    "thresh_img = img.copy()\n",
    "thresh_img[thresh_img < threshold] = 0\n",
    "thresh_img[thresh_img >= threshold] = 255\n",
    "\n",
    "cv2.imshow(\"Threshold Image\", thresh_img)\n",
    "cv2.waitKey(0)\n",
    "\n",
    "# Draw a black cross on the image\n",
    "cross_img = img.copy()\n",
    "halfHeight = int(height / 2)\n",
    "halfWidth = int(width / 2)\n",
    "\n",
    "# Set the pixel values of the centre row to 0\n",
    "cross_img[halfHeight, :] = 0\n",
    "\n",
    "# Set the pixel values of the centre column to 0\n",
    "cross_img[:, halfWidth] = 0\n",
    "\n",
    "# Display the result\n",
    "cv2.imshow(\"Image with Cross\", cross_img)\n",
    "cv2.waitKey(0)"
   ],
   "metadata": {
    "collapsed": false
   },
   "id": "f9badcf9f6d94d64"
  }
 ],
 "metadata": {
  "kernelspec": {
   "display_name": "Python 3",
   "language": "python",
   "name": "python3"
  },
  "language_info": {
   "codemirror_mode": {
    "name": "ipython",
    "version": 2
   },
   "file_extension": ".py",
   "mimetype": "text/x-python",
   "name": "python",
   "nbconvert_exporter": "python",
   "pygments_lexer": "ipython2",
   "version": "2.7.6"
  }
 },
 "nbformat": 4,
 "nbformat_minor": 5
}
